{
 "cells": [
  {
   "cell_type": "code",
   "execution_count": 1,
   "id": "d3e498f8",
   "metadata": {},
   "outputs": [],
   "source": [
    "#importing pandas libary as pd\n",
    "import pandas as pd"
   ]
  },
  {
   "cell_type": "code",
   "execution_count": 2,
   "id": "465e5605",
   "metadata": {},
   "outputs": [],
   "source": [
    "#using pandas  read function we are reading data set\n",
    "dataset=pd.read_csv(\"salary_Data.csv\")\n",
    "dataset\n"
   ]
  },
  {
   "cell_type": "code",
   "execution_count": 3,
   "id": "e71e09d0",
   "metadata": {},
   "outputs": [],
   "source": [
    "#from dataset seperating input column and assigning to independent variable \n",
    "independent=dataset[[\"yearExperience\"]]\n",
    "independent"
   ]
  },
  {
   "cell_type": "code",
   "execution_count": 4,
   "id": "3e061296",
   "metadata": {},
   "outputs": [],
   "source": [
    "#from dataset seperating output column and assigning to dependent variable \n",
    "dependent=dataset[[\"salary\"]]\n",
    "dependent"
   ]
  },
  {
   "cell_type": "code",
   "execution_count": 5,
   "id": "ef590d9a",
   "metadata": {},
   "outputs": [],
   "source": [
    "#from sklearn libary  importing  model_selection class in the that class we are train_test_split function\n",
    "from sklearn.model_selection import train_test_split\n",
    "# we are assigning input & output data to train_test_split function to split our data two train data and testdata.we can also pass spliting percentage in function parameter\n",
    "X_train,X_test,Y_train,Y_test=train_test_split(independent,dependent,test_size=0.30,random_state=0)"
   ]
  },
  {
   "cell_type": "code",
   "execution_count": null,
   "id": "2a8c152e",
   "metadata": {},
   "outputs": [],
   "source": [
    "#from sklearn libary  importing  linear_model  class in the that class we are using LinearRegression function\n",
    "from sklearn.linear_model import LinearRegression\n",
    "#assigning LinearRegression function to variable regressor\n",
    "regressor=LinearRegression()\n",
    "#using fit function we are passing train dataset LinearRegression function and making model to learn \n",
    "regressor.fit(X_train,y_train)"
   ]
  },
  {
   "cell_type": "code",
   "execution_count": null,
   "id": "c366adb3",
   "metadata": {},
   "outputs": [],
   "source": [
    "#we find value bitween all input point y=wx+b using formula we say we are finding w\n",
    "weight=regressor.coef_\n",
    "weight"
   ]
  },
  {
   "cell_type": "code",
   "execution_count": 6,
   "id": "524cd422",
   "metadata": {},
   "outputs": [],
   "source": [
    "#By using intercept function we are finding starting point os slope y=wx+b by using formula we can say we are finding b\n",
    "bais=regressor.intercept_\n",
    "bais"
   ]
  },
  {
   "cell_type": "code",
   "execution_count": 7,
   "id": "afc8ae76",
   "metadata": {},
   "outputs": [],
   "source": [
    "# we making our model to do predition so we are passing test data in our model to predict\n",
    "y_pred=regressor.predict(X_test)"
   ]
  },
  {
   "cell_type": "code",
   "execution_count": 8,
   "id": "9aac780b",
   "metadata": {},
   "outputs": [],
   "source": [
    "#from sklearn libary  importing  metrics class in the that class we are using r2_score function\n",
    "from sklearn.metrics import r2_score\n",
    "#we are passing r2 funcion  to to variable r_score in that we passing predict value and y_test value to cross check our model predition is correct or wrong\n",
    "r_score=r2_score(y_test,ypred)\n",
    "# r_score value is near to 1 our model good to use if vale is nearst to 0 our model not good\n",
    "r_score\n"
   ]
  },
  {
   "cell_type": "code",
   "execution_count": 9,
   "id": "81bc1490",
   "metadata": {},
   "outputs": [],
   "source": [
    "#we are importing pickel package \n",
    "import pickel\n",
    "#we creating file with name \n",
    "filename=\"final_model_linear.sav\""
   ]
  },
  {
   "cell_type": "code",
   "execution_count": 10,
   "id": "2950b318",
   "metadata": {},
   "outputs": [],
   "source": [
    "#writing our model in created file usin dump function in pickle\n",
    "pickle.dump(regressor,open(filename,'wb'))"
   ]
  },
  {
   "cell_type": "code",
   "execution_count": null,
   "id": "8dfb08f4",
   "metadata": {},
   "outputs": [],
   "source": [
    "#we are opening model saved file to do recheck using load function in picker and assinging the model to the variable loaded_model\n",
    "loaded_model=pickel.load(open(\"final_model_linear.sav\",'rb'))\n",
    "#we are passing input to model to predict\n",
    "result=loaded_model.predict([[13]])\n",
    "# seeing predicted value\n",
    "result"
   ]
  }
 ],
 "metadata": {
  "kernelspec": {
   "display_name": "Python 3 (ipykernel)",
   "language": "python",
   "name": "python3"
  },
  "language_info": {
   "codemirror_mode": {
    "name": "ipython",
    "version": 3
   },
   "file_extension": ".py",
   "mimetype": "text/x-python",
   "name": "python",
   "nbconvert_exporter": "python",
   "pygments_lexer": "ipython3",
   "version": "3.9.16"
  }
 },
 "nbformat": 4,
 "nbformat_minor": 5
}
